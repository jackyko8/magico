{
 "cells": [
  {
   "cell_type": "markdown",
   "metadata": {},
   "source": [
    "# MagicO - enabling attribute notation and JSONPath"
   ]
  },
  {
   "cell_type": "markdown",
   "metadata": {},
   "source": [
    "`MagicO` (Magic Object 0.1) allows you to access a `dict` or `list` Python object using the attribute notation or a JSONPath.\n",
    "\n",
    "For example, given the following data object:"
   ]
  },
  {
   "cell_type": "code",
   "execution_count": 1,
   "metadata": {},
   "outputs": [],
   "source": [
    "my_data = {\n",
    "    \"a\": 1,\n",
    "    \"b\": {\n",
    "        \"c\": 3,\n",
    "        \"d\": 4,\n",
    "    },\n",
    "    \"e\": [\n",
    "        {\"f\": 6},\n",
    "        \"xyz\",\n",
    "    ],\n",
    "}"
   ]
  },
  {
   "cell_type": "markdown",
   "metadata": {},
   "source": [
    "to access attribute \"f\", you would need to use a series of subscripts, such as `my_data[\"e\"][0][\"f\"])`.\n",
    "As a programmer, you probably would find it more natural to use the attribute notation, such as `my_data.e[0].f`, or the JSONPath notation, such as `my_data[\"$.e[0].f\"]`.\n",
    "This is what `MagicO` enables you to do."
   ]
  },
  {
   "cell_type": "markdown",
   "metadata": {},
   "source": [
    "To install `MagicO`:\n",
    "\n",
    "```bash\n",
    "pip install magico\n",
    "```"
   ]
  },
  {
   "cell_type": "markdown",
   "metadata": {},
   "source": [
    "To use `MagicO`:"
   ]
  },
  {
   "cell_type": "code",
   "execution_count": 2,
   "metadata": {},
   "outputs": [],
   "source": [
    "from magico import MagicO\n",
    "\n",
    "my_magic = MagicO(my_data)"
   ]
  },
  {
   "cell_type": "markdown",
   "metadata": {},
   "source": [
    "## Attribute notation"
   ]
  },
  {
   "cell_type": "markdown",
   "metadata": {},
   "source": [
    "To access an attribute using the attribute (dotted) notation:"
   ]
  },
  {
   "cell_type": "code",
   "execution_count": 3,
   "metadata": {},
   "outputs": [
    {
     "name": "stdout",
     "output_type": "stream",
     "text": [
      "{'a': 1, 'b': {'c': 3, 'd': 4}, 'e': [{'f': 6}, 'xyz']}\n",
      "6\n"
     ]
    }
   ],
   "source": [
    "print(my_magic) # Original data\n",
    "# Output: {'a': 1, 'b': {'c': 3, 'd': 4}, 'e': [{'f': 6}, 'xyz']}\n",
    "\n",
    "print(my_magic.e[0].f)\n",
    "# Output: 6"
   ]
  },
  {
   "cell_type": "markdown",
   "metadata": {},
   "source": [
    "You may create new attributes, change them, and delete them using the attribute notation."
   ]
  },
  {
   "cell_type": "code",
   "execution_count": 4,
   "metadata": {},
   "outputs": [
    {
     "name": "stdout",
     "output_type": "stream",
     "text": [
      "{'a': 1, 'b': {'c': 3, 'd': 4}, 'e': [{'f': 6}, 'xyz']}\n",
      "{'a': 1, 'b': {'c': 3, 'd': 4, 'g': 7}, 'e': [{'f': 6}, 'xyz']}\n",
      "{'a': 1, 'b': {'c': 3, 'd': 4, 'g': 8}, 'e': [{'f': 6}, 'xyz']}\n",
      "{'a': 1, 'b': {'c': 3, 'd': 4}, 'e': [{'f': 6}, 'xyz']}\n"
     ]
    }
   ],
   "source": [
    "print(my_magic) # Original data\n",
    "# Output: {'a': 1, 'b': {'c': 3, 'd': 4}, 'e': [{'f': 6}, 'xyz']}\n",
    "\n",
    "my_magic.b.g = 7\n",
    "print(my_magic) # b.g is created\n",
    "# Output: {'a': 1, 'b': {'c': 3, 'd': 4, 'g': 7}, 'e': [{'f': 6}, 'xyz']}\n",
    "\n",
    "my_magic.b.g = 8\n",
    "print(my_magic) # b.g is updated\n",
    "# Output: {'a': 1, 'b': {'c': 3, 'd': 4, 'g': 8}, 'e': [{'f': 6}, 'xyz']}\n",
    "\n",
    "del my_magic.b.g\n",
    "print(my_magic) # b.g is deleted\n",
    "# Output: {\"a\": 1, \"b\": {\"c\": 3, \"d\": 4}, \"e\": [{\"f\": 6}, \"xyz\"]}"
   ]
  },
  {
   "cell_type": "markdown",
   "metadata": {},
   "source": [
    "## JSONPath notation"
   ]
  },
  {
   "cell_type": "markdown",
   "metadata": {},
   "source": [
    "There are times when the attribute to access is programmatically formulated as a [JSONPath](https://github.com/json-path/JsonPath), such as \"$.e[0].f\".\n",
    "In this case, you may use the JSONPath as a subscript to the `MagicO` object, as in the following example:"
   ]
  },
  {
   "cell_type": "code",
   "execution_count": 5,
   "metadata": {},
   "outputs": [
    {
     "name": "stdout",
     "output_type": "stream",
     "text": [
      "{'a': 1, 'b': {'c': 3, 'd': 4}, 'e': [{'f': 6}, 'xyz']}\n",
      "6\n",
      "6\n"
     ]
    }
   ],
   "source": [
    "print(my_magic) # Original data\n",
    "# Output: {'a': 1, 'b': {'c': 3, 'd': 4}, 'e': [{'f': 6}, 'xyz']}\n",
    "\n",
    "print(my_magic[\"$.e[0].f\"])\n",
    "# Output: 6\n",
    "\n",
    "# The root element of the JSONPath can be omitted\n",
    "print(my_magic[\"e[0].f\"])\n",
    "# Output: 6"
   ]
  },
  {
   "cell_type": "markdown",
   "metadata": {},
   "source": [
    "With the `MagicO` subscript notation, you can create a \"deep\" attribute simply by assigning a value to it, and all missing parent attributes along the path will be created automatically. For example:"
   ]
  },
  {
   "cell_type": "code",
   "execution_count": 6,
   "metadata": {},
   "outputs": [
    {
     "name": "stdout",
     "output_type": "stream",
     "text": [
      "{'a': 1, 'b': {'c': 3, 'd': 4, 'g': {'h': {'i': 9}}}, 'e': [{'f': 6}, 'xyz']}\n",
      "{'a': 1, 'b': {'c': 3, 'd': 4}, 'e': [{'f': 6}, 'xyz']}\n"
     ]
    }
   ],
   "source": [
    "my_magic[\"$.b.g.h.i\"] = 9 # Creating a \"deep\" attribute b.g.h.i\n",
    "print(my_magic) # Attribute \"b\" is added with \"g.h\" to get to \"i\"\n",
    "# Output: {'a': 1, 'b': {'c': 3, 'd': 4, 'g': {'h': {'i': 9}}}, 'e': [{'f': 6}, 'xyz']}\n",
    "\n",
    "del my_magic[\"$.b.g\"] # Deleting the parent will delete its tree\n",
    "print(my_magic) # Attribute \"b.g\" is deleted\n",
    "# Output: {'a': 1, 'b': {'c': 3, 'd': 4}, 'e': [{'f': 6}, 'xyz']}"
   ]
  },
  {
   "cell_type": "markdown",
   "metadata": {},
   "source": [
    "## Data types"
   ]
  },
  {
   "cell_type": "markdown",
   "metadata": {},
   "source": [
    "The data type `MagicO` returns depends on how you access it:\n",
    "\n",
    "- Attribute notation:\n",
    "  - `dict`, `list`, and `MagicO` objects: Returns as a `MagicO` object\n",
    "    - `.to_data()`: Returns the data\n",
    "  - Scalar (`str`, `int`, `bool`, etc.): Returns the data\n",
    "- JSONPath notation:\n",
    "  - Returns the data"
   ]
  },
  {
   "cell_type": "code",
   "execution_count": 7,
   "metadata": {},
   "outputs": [
    {
     "name": "stdout",
     "output_type": "stream",
     "text": [
      "MagicO object\n",
      "  <class 'magico.magico.MagicO'>: {'a': 1, 'b': {'c': 3, 'd': 4}, 'e': [{'f': 6}, 'xyz']}\n",
      "  <class 'dict'>: {'a': 1, 'b': {'c': 3, 'd': 4}, 'e': [{'f': 6}, 'xyz']}\n"
     ]
    }
   ],
   "source": [
    "print(\"MagicO object\")\n",
    "print(f\"  {type(my_magic)}: {my_magic}\") # <class 'magico.magico.MagicO'>: ...\n",
    "print(f\"  {type(my_magic.to_data())}: {my_magic.to_data()}\") # <class 'dict'>: ..."
   ]
  },
  {
   "cell_type": "code",
   "execution_count": 8,
   "metadata": {},
   "outputs": [
    {
     "name": "stdout",
     "output_type": "stream",
     "text": [
      "list object\n",
      "  <class 'magico.magico.MagicO'>: [{'f': 6}, 'xyz']\n",
      "  <class 'list'>: [{'f': 6}, 'xyz']\n"
     ]
    }
   ],
   "source": [
    "print(\"list object\")\n",
    "print(f\"  {type(my_magic.e)}: {my_magic.e}\") # <class 'magico.magico.MagicO'>: [{'f': 6}, 'xyz']\n",
    "print(f\"  {type(my_magic.e.to_data())}: {my_magic.e.to_data()}\") # <class 'list'>: [{'f': 6}, 'xyz']"
   ]
  },
  {
   "cell_type": "code",
   "execution_count": 9,
   "metadata": {},
   "outputs": [
    {
     "name": "stdout",
     "output_type": "stream",
     "text": [
      "dict object\n",
      "  <class 'magico.magico.MagicO'>: {'f': 6}\n",
      "  <class 'dict'>: {'f': 6}\n"
     ]
    }
   ],
   "source": [
    "print(\"dict object\")\n",
    "print(f\"  {type(my_magic.e[0])}: {my_magic.e[0]}\") # <class 'magico.magico.MagicO'>: {'f': 6}\n",
    "print(f\"  {type(my_magic.e[0].to_data())}: {my_magic.e[0].to_data()}\") # <class 'dict'>: {'f': 6}"
   ]
  },
  {
   "cell_type": "code",
   "execution_count": 10,
   "metadata": {},
   "outputs": [
    {
     "name": "stdout",
     "output_type": "stream",
     "text": [
      "Scalar\n",
      "  <class 'int'>: 6\n"
     ]
    }
   ],
   "source": [
    "print(\"Scalar\")\n",
    "print(f\"  {type(my_magic.e[0].f)}: {my_magic.e[0].f}\") # <class 'int'>: 6"
   ]
  },
  {
   "cell_type": "code",
   "execution_count": 11,
   "metadata": {},
   "outputs": [
    {
     "name": "stdout",
     "output_type": "stream",
     "text": [
      "JSONPath access\n",
      "  <class 'int'>: 6\n",
      "  <class 'dict'>: {'a': 1, 'b': {'c': 3, 'd': 4}, 'e': [{'f': 6}, 'xyz']}\n"
     ]
    }
   ],
   "source": [
    "print(\"JSONPath access\")\n",
    "print(f\"  {type(my_magic['$.e[0].f'])}: {my_magic['$.e[0].f']}\") # <class 'int'>: 6\n",
    "print(f\"  {type(my_magic[''])}: {my_magic['']}\") # <class 'dict'>: ..."
   ]
  },
  {
   "cell_type": "markdown",
   "metadata": {},
   "source": [
    "`MagicO` supports all `dict` and `list` behaviours: you may use [dict methods](https://www.w3schools.com/python/python_ref_dictionary.asp) and [list methods](https://www.w3schools.com/python/python_ref_list.asp) on a `MagicO` object, as if it is the underlying `dict` or `list`.\n",
    "\n",
    "For example,"
   ]
  },
  {
   "cell_type": "code",
   "execution_count": 12,
   "metadata": {},
   "outputs": [
    {
     "name": "stdout",
     "output_type": "stream",
     "text": [
      "a: 1\n",
      "b: {'c': 3, 'd': 4}\n",
      "e: [{'f': 6}, 'xyz']\n"
     ]
    }
   ],
   "source": [
    "# Iterable\n",
    "for m in my_magic:\n",
    "    print(f\"{m}: {my_magic[m]}\")"
   ]
  },
  {
   "cell_type": "code",
   "execution_count": 13,
   "metadata": {},
   "outputs": [
    {
     "name": "stdout",
     "output_type": "stream",
     "text": [
      "{'a': 1, 'b': {'c': 3, 'd': 4}, 'e': [{'f': 6}, 'xyz', [8, 6, 7, 5]]}\n",
      "{'a': 1, 'b': {'c': 3, 'd': 4}, 'e': [{'f': 6}, 'xyz', [5, 6, 7, 8]]}\n"
     ]
    }
   ],
   "source": [
    "# Sortable\n",
    "my_magic.e.append([8, 6, 7, 5])\n",
    "print(my_magic)\n",
    "my_magic.e[-1].sort()\n",
    "print(my_magic)"
   ]
  },
  {
   "cell_type": "markdown",
   "metadata": {},
   "source": [
    "## Referential pointers"
   ]
  },
  {
   "cell_type": "markdown",
   "metadata": {},
   "source": [
    "Access to a `MagicO` object returns a pointer to the original data.\n",
    "Updating the returned object will affect the original data object as well.\n",
    "In short, `MagicO` is a wrapper of the original data you created it with.\n",
    "They all share the same storage."
   ]
  },
  {
   "cell_type": "code",
   "execution_count": 14,
   "metadata": {},
   "outputs": [
    {
     "name": "stdout",
     "output_type": "stream",
     "text": [
      "{'a': 1, 'b': {'c': 3, 'd': 4}, 'e': [{'f': 6}, 'xyz', [5, 6, 7, 8]]}\n",
      "{'a': 1, 'b': {'c': 3, 'd': 4}, 'e': [{'f': 6}, 'abc', [5, 6, 7, 8]]}\n",
      "{'a': 1, 'b': {'c': 3, 'd': 4}, 'e': [{'f': 6}, 'xyz', [5, 6, 7, 8]]}\n"
     ]
    }
   ],
   "source": [
    "print(my_data) # Original: {..., 'e': [{'f': 6}, 'xyz'], ...}\n",
    "my_magic_data = my_magic.to_data()\n",
    "\n",
    "# Update the data object\n",
    "my_magic_data[\"e\"][1] = \"abc\"\n",
    "print(my_data) # Output: {..., 'e': [{'f': 6}, 'abc'], ...}\n",
    "\n",
    "# Update the MagicO object\n",
    "my_magic.e[1] = \"xyz\"\n",
    "print(my_data) # Output: {..., 'e': [{'f': 6}, 'xyz'], ...}"
   ]
  },
  {
   "cell_type": "markdown",
   "metadata": {},
   "source": [
    "Another example with JSONPath and delete. The deletion on the returned object `my_magic_attr` affects the original data `my_data`."
   ]
  },
  {
   "cell_type": "code",
   "execution_count": 15,
   "metadata": {},
   "outputs": [
    {
     "name": "stdout",
     "output_type": "stream",
     "text": [
      "[{'f': 6}, 'xyz', [5, 6, 7, 8]]\n",
      "{'a': 1, 'b': {'c': 3, 'd': 4}, 'e': [{'f': 6}, 'xyz']}\n"
     ]
    }
   ],
   "source": [
    "my_magic_attr = my_magic[\"$.e\"]\n",
    "print(my_magic_attr) # Output: [{'f': 6}, 'xyz', [5, 6, 7, 8]]\n",
    "\n",
    "del my_magic_attr[-1]\n",
    "print(my_data) # Output: {'a': 1, 'b': {'c': 3, 'd': 4}, 'e': [{'f': 6}, 'xyz']}"
   ]
  },
  {
   "cell_type": "markdown",
   "metadata": {},
   "source": [
    "---\n",
    "If you have any questions or experience any issues, please log a [MagicO ticket on GitHub](https://github.com/jackyko8/magico/issues)."
   ]
  },
  {
   "cell_type": "markdown",
   "metadata": {},
   "source": [
    "## End of page"
   ]
  }
 ],
 "metadata": {
  "kernelspec": {
   "display_name": "Python 3",
   "language": "python",
   "name": "python3"
  },
  "language_info": {
   "codemirror_mode": {
    "name": "ipython",
    "version": 3
   },
   "file_extension": ".py",
   "mimetype": "text/x-python",
   "name": "python",
   "nbconvert_exporter": "python",
   "pygments_lexer": "ipython3",
   "version": "3.9.17"
  },
  "orig_nbformat": 4
 },
 "nbformat": 4,
 "nbformat_minor": 2
}
